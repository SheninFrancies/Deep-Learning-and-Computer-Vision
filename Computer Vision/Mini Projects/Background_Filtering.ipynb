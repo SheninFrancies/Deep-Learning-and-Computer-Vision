{
 "cells": [
  {
   "attachments": {},
   "cell_type": "markdown",
   "metadata": {},
   "source": [
    "# Filtering Background using BackgroundSubtractorMOG2"
   ]
  },
  {
   "cell_type": "code",
   "execution_count": 4,
   "metadata": {},
   "outputs": [],
   "source": [
    "import numpy as np\n",
    "import cv2\n",
    "import time\n",
    "\n",
    "cap = cv2.VideoCapture('../Images and Videos/pexels-kindel-media.mp4')\n",
    "\n",
    "# BackgroundSubtractorMOG2\n",
    "foreground = cv2.createBackgroundSubtractorMOG2()\n",
    "body_classifier = cv2.CascadeClassifier('../Haarcascades/haarcascade_fullbody.xml')\n",
    "\n",
    "while True:\n",
    "    time.sleep(0.1)\n",
    "    success, frame = cap.read()\n",
    "    frame = cv2.resize(frame, None, fx = 0.6, fy = 0.3, interpolation = cv2.INTER_LINEAR)\n",
    "    foreground_mask = foreground.apply(frame)\n",
    "    \n",
    "    cv2.imshow('Original Image', frame)\n",
    "    cv2.imshow('Filtered Background Image', foreground_mask)\n",
    "\n",
    "    if cv2.waitKey(1) == 13: \n",
    "        break\n",
    "\n",
    "cap.release()\n",
    "cv2.destroyAllWindows()"
   ]
  }
 ],
 "metadata": {
  "kernelspec": {
   "display_name": "Python 3",
   "language": "python",
   "name": "python3"
  },
  "language_info": {
   "codemirror_mode": {
    "name": "ipython",
    "version": 3
   },
   "file_extension": ".py",
   "mimetype": "text/x-python",
   "name": "python",
   "nbconvert_exporter": "python",
   "pygments_lexer": "ipython3",
   "version": "3.9.13 (main, Oct 13 2022, 21:23:06) [MSC v.1916 64 bit (AMD64)]"
  },
  "orig_nbformat": 4,
  "vscode": {
   "interpreter": {
    "hash": "322c2c6aacf71efb79f0238705e09af44d05113295e4acf8d93beffad59b07fd"
   }
  }
 },
 "nbformat": 4,
 "nbformat_minor": 2
}
