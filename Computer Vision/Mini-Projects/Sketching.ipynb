{
 "cells": [
  {
   "attachments": {},
   "cell_type": "markdown",
   "metadata": {},
   "source": [
    "### Simple Sketching on WebCam\n",
    "\n",
    "Function sketching takes in an image, converts it to grayscale and applies the Gaussian Blur to it (to remove the redundant noise that are usually present in the webcam). Then, edges are detected using Canny, a threshold is applied. Then, the grayscale image is converted back to color so as to have colored edges, which is implemented using bitwise operation.\n",
    "\n",
    "Note: To close the Webcam, the Enter key has to be used."
   ]
  },
  {
   "cell_type": "code",
   "execution_count": 1,
   "metadata": {},
   "outputs": [],
   "source": [
    "import cv2\n",
    "import numpy as np\n",
    "\n",
    "def sketching(image):\n",
    "    grayscale_image = cv2.cvtColor(image, cv2.COLOR_BGR2GRAY)\n",
    "    blurred_image = cv2.GaussianBlur(grayscale_image, (5, 5), 0)\n",
    "    canny_edges = cv2.Canny(blurred_image, 10, 70)\n",
    "    ret, mask = cv2.threshold(canny_edges, 70, 255, cv2.THRESH_BINARY)\n",
    "    colored_image = cv2.cvtColor(mask, cv2.COLOR_GRAY2BGR)\n",
    "    final_image = cv2.bitwise_and(image, colored_image)\n",
    "    return final_image\n",
    "\n",
    "capture = cv2.VideoCapture(0)\n",
    "while True:\n",
    "    ret, frame = capture.read()\n",
    "    cv2.imshow('Live Sketching', sketching(frame))\n",
    "    if cv2.waitKey(1) == 13:    # Enter key\n",
    "        break\n",
    "\n",
    "capture.release()\n",
    "cv2.destroyAllWindows()"
   ]
  }
 ],
 "metadata": {
  "kernelspec": {
   "display_name": "Python 3",
   "language": "python",
   "name": "python3"
  },
  "language_info": {
   "codemirror_mode": {
    "name": "ipython",
    "version": 3
   },
   "file_extension": ".py",
   "mimetype": "text/x-python",
   "name": "python",
   "nbconvert_exporter": "python",
   "pygments_lexer": "ipython3",
   "version": "3.9.13"
  },
  "orig_nbformat": 4,
  "vscode": {
   "interpreter": {
    "hash": "322c2c6aacf71efb79f0238705e09af44d05113295e4acf8d93beffad59b07fd"
   }
  }
 },
 "nbformat": 4,
 "nbformat_minor": 2
}
