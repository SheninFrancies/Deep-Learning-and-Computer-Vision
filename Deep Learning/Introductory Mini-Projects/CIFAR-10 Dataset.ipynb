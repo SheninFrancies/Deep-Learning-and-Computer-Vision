{
  "nbformat": 4,
  "nbformat_minor": 0,
  "metadata": {
    "colab": {
      "provenance": [],
      "toc_visible": true
    },
    "kernelspec": {
      "name": "python3",
      "display_name": "Python 3"
    },
    "language_info": {
      "name": "python"
    },
    "accelerator": "GPU",
    "gpuClass": "standard"
  },
  "cells": [
    {
      "cell_type": "markdown",
      "source": [
        "# CIFAR-10 Dataset\n",
        "\n",
        "The CIFAR-10 is a labeled subset of the 80-million tiny images dataset.\n",
        "\n",
        "The CIFAR-10 dataset consists of 60,000 32x32 colour images in 10 classes, with 6,000 images per class. There are 50,000 training images and 10,000 test images.\n",
        "\n",
        "The classification classes are:\n",
        "\n",
        "0. Airplane \n",
        "1. Automobile\n",
        "2. Bird\n",
        "3. Cat\n",
        "4. Deer\n",
        "5. Dog\n",
        "6. Frog\n",
        "7. Horse\n",
        "8. Ship\n",
        "9. Truck\n",
        "\n",
        "Details on the dataset can be found [here](https://www.cs.toronto.edu/~kriz/cifar.html).\n",
        "\n"
      ],
      "metadata": {
        "id": "TwazwOpMd4-s"
      }
    },
    {
      "cell_type": "code",
      "execution_count": 1,
      "metadata": {
        "id": "_dH4GoOPdyHi"
      },
      "outputs": [],
      "source": [
        "import tensorflow as tf\n",
        "import keras\n",
        "import numpy as np\n",
        "import matplotlib.pyplot as plt\n",
        "import seaborn as sns"
      ]
    },
    {
      "cell_type": "code",
      "source": [
        "(x_train, y_train), (x_test, y_test) = keras.datasets.cifar10.load_data()"
      ],
      "metadata": {
        "id": "HqVQN0LNenAC"
      },
      "execution_count": 2,
      "outputs": []
    },
    {
      "cell_type": "code",
      "source": [
        "print('Shape of the training set:', x_train.shape)\n",
        "print('Shape of the test set:', x_test.shape)"
      ],
      "metadata": {
        "colab": {
          "base_uri": "https://localhost:8080/"
        },
        "id": "P_tfiJ9lghu1",
        "outputId": "d9a55555-56c9-4148-95d3-90fe40524b9c"
      },
      "execution_count": 3,
      "outputs": [
        {
          "output_type": "stream",
          "name": "stdout",
          "text": [
            "Shape of the training set: (50000, 32, 32, 3)\n",
            "Shape of the test set: (10000, 32, 32, 3)\n"
          ]
        }
      ]
    },
    {
      "cell_type": "markdown",
      "source": [
        "In the training set, there are 50,000 images - each image being 32 by 32 pixels. In the test set, there are 10,000 images. The images are in RGB Format, indicated by the 3 channels.\n",
        "\n",
        "Let's check the 4th image in the training set, for example:"
      ],
      "metadata": {
        "id": "D2wvUDeFh9LX"
      }
    },
    {
      "cell_type": "code",
      "source": [
        "plt.figure(figsize = (10,1))\n",
        "plt.imshow(x_train[3])\n",
        "plt.show()"
      ],
      "metadata": {
        "colab": {
          "base_uri": "https://localhost:8080/",
          "height": 105
        },
        "id": "t4jeD8Nzh7tW",
        "outputId": "85cb872d-10d0-4094-d9c3-8ec3758405a2"
      },
      "execution_count": 4,
      "outputs": [
        {
          "output_type": "display_data",
          "data": {
            "text/plain": [
              "<Figure size 720x72 with 1 Axes>"
            ],
            "image/png": "[encoded data removed]"
          },
          "metadata": {
            "needs_background": "light"
          }
        }
      ]
    },
    {
      "cell_type": "markdown",
      "source": [
        "It looks like a Deer. Let's check the corresponding label:"
      ],
      "metadata": {
        "id": "pXtS2YdWjGDU"
      }
    },
    {
      "cell_type": "code",
      "source": [
        "print('The label of the 4th Image:', y_train[3])\n",
        "classes = ['Airplane', 'Automobile', 'Bird', 'Cat', 'Deer', 'Dog', 'Frog', 'Horse',\n",
        "           'Ship', 'Truck']\n",
        "print(\"The 4th Image corresponds to a '{}'.\".format(classes[y_train[3][0]]))"
      ],
      "metadata": {
        "colab": {
          "base_uri": "https://localhost:8080/"
        },
        "id": "tiSo29VYiUNo",
        "outputId": "a4943028-c3dc-43df-950b-c2e7ce2190f1"
      },
      "execution_count": 5,
      "outputs": [
        {
          "output_type": "stream",
          "name": "stdout",
          "text": [
            "The label of the 4th Image: [4]\n",
            "The 4th Image corresponds to a 'Deer'.\n"
          ]
        }
      ]
    },
    {
      "cell_type": "markdown",
      "source": [
        "Thus, the image corresponds to a Deer.\n",
        "\n",
        "We now scale the Input data:"
      ],
      "metadata": {
        "id": "Nsl2yT_IkU8U"
      }
    },
    {
      "cell_type": "code",
      "source": [
        "x_train_scaled = x_train / 255\n",
        "x_test_scaled = x_test / 255"
      ],
      "metadata": {
        "id": "2yAU2h0Wjihs"
      },
      "execution_count": 6,
      "outputs": []
    },
    {
      "cell_type": "markdown",
      "source": [
        "Check the label classes  - the first 10 in this case, for example:"
      ],
      "metadata": {
        "id": "DWVyfKLxmOwN"
      }
    },
    {
      "cell_type": "code",
      "source": [
        "print(y_train[:10].reshape(10,))"
      ],
      "metadata": {
        "colab": {
          "base_uri": "https://localhost:8080/"
        },
        "id": "jZLx8TJ0mKuw",
        "outputId": "d869a35e-9468-4eb7-bdf8-ee551c034bce"
      },
      "execution_count": 7,
      "outputs": [
        {
          "output_type": "stream",
          "name": "stdout",
          "text": [
            "[6 9 9 4 1 1 2 7 8 3]\n"
          ]
        }
      ]
    },
    {
      "cell_type": "markdown",
      "source": [
        "We have to Encode the training and testing labels using One-Hot Encoding:"
      ],
      "metadata": {
        "id": "gTJZgInvmYmM"
      }
    },
    {
      "cell_type": "code",
      "source": [
        "y_train_encoded = keras.utils.to_categorical(\n",
        "    y_train, num_classes = 10, dtype = 'float32'\n",
        ")\n",
        "\n",
        "y_test_encoded = keras.utils.to_categorical(\n",
        "    y_test, num_classes = 10, dtype = 'float32'\n",
        ")\n",
        "\n",
        "print('Encoded training labels: \\n', y_train_encoded[:5])\n",
        "print('Encoded test labels: \\n', y_test_encoded[:5])"
      ],
      "metadata": {
        "colab": {
          "base_uri": "https://localhost:8080/"
        },
        "id": "8Ou2cG_mmSpV",
        "outputId": "438c8c46-d5c3-409f-bbf4-8ac014da4f5c"
      },
      "execution_count": 8,
      "outputs": [
        {
          "output_type": "stream",
          "name": "stdout",
          "text": [
            "Encoded training labels: \n",
            " [[0. 0. 0. 0. 0. 0. 1. 0. 0. 0.]\n",
            " [0. 0. 0. 0. 0. 0. 0. 0. 0. 1.]\n",
            " [0. 0. 0. 0. 0. 0. 0. 0. 0. 1.]\n",
            " [0. 0. 0. 0. 1. 0. 0. 0. 0. 0.]\n",
            " [0. 1. 0. 0. 0. 0. 0. 0. 0. 0.]]\n",
            "Encoded test labels: \n",
            " [[0. 0. 0. 1. 0. 0. 0. 0. 0. 0.]\n",
            " [0. 0. 0. 0. 0. 0. 0. 0. 1. 0.]\n",
            " [0. 0. 0. 0. 0. 0. 0. 0. 1. 0.]\n",
            " [1. 0. 0. 0. 0. 0. 0. 0. 0. 0.]\n",
            " [0. 0. 0. 0. 0. 0. 1. 0. 0. 0.]]\n"
          ]
        }
      ]
    },
    {
      "cell_type": "markdown",
      "source": [
        "## Keras - Model\n",
        "\n",
        "```r\n",
        "Number of Units = 32 * 32 * 3 = 3072\n",
        "```\n",
        "\n",
        "We try to incorporate this value into the first hidden layer.\n",
        "\n",
        "If your training data is discrete, use Sparse Categorical Cross-entropy as the loss. If it is encoded, use Categorical Cross-entropy instead."
      ],
      "metadata": {
        "id": "SRS-enY0nnVt"
      }
    },
    {
      "cell_type": "code",
      "source": [
        "model = keras.Sequential([\n",
        "    keras.layers.Flatten(input_shape = (32, 32, 3)),\n",
        "    keras.layers.Dense(3000, activation = 'relu'),\n",
        "    keras.layers.Dense(1000, activation = 'sigmoid'),\n",
        "    keras.layers.Dense(10, activation = 'sigmoid')\n",
        "])\n",
        "\n",
        "model.summary()"
      ],
      "metadata": {
        "colab": {
          "base_uri": "https://localhost:8080/"
        },
        "id": "sAe7daZ0nGe9",
        "outputId": "2c5351af-b169-4554-d464-c37feccb7c90"
      },
      "execution_count": 9,
      "outputs": [
        {
          "output_type": "stream",
          "name": "stdout",
          "text": [
            "Model: \"sequential\"\n",
            "_________________________________________________________________\n",
            " Layer (type)                Output Shape              Param #   \n",
            "=================================================================\n",
            " flatten (Flatten)           (None, 3072)              0         \n",
            "                                                                 \n",
            " dense (Dense)               (None, 3000)              9219000   \n",
            "                                                                 \n",
            " dense_1 (Dense)             (None, 1000)              3001000   \n",
            "                                                                 \n",
            " dense_2 (Dense)             (None, 10)                10010     \n",
            "                                                                 \n",
            "=================================================================\n",
            "Total params: 12,230,010\n",
            "Trainable params: 12,230,010\n",
            "Non-trainable params: 0\n",
            "_________________________________________________________________\n"
          ]
        }
      ]
    },
    {
      "cell_type": "code",
      "source": [
        "model.compile(optimizer = 'SGD',\n",
        "              loss = 'categorical_crossentropy',\n",
        "              metrics = ['accuracy']\n",
        "              )\n",
        "\n",
        "history = model.fit(x_train_scaled, y_train_encoded, epochs = 50, verbose = 2)"
      ],
      "metadata": {
        "colab": {
          "base_uri": "https://localhost:8080/"
        },
        "id": "7W5NuYvupIwO",
        "outputId": "d9157daa-1ad0-4f1e-c05c-97649f364899"
      },
      "execution_count": 10,
      "outputs": [
        {
          "output_type": "stream",
          "name": "stdout",
          "text": [
            "Epoch 1/50\n",
            "1563/1563 - 10s - loss: 1.9765 - accuracy: 0.2923 - 10s/epoch - 7ms/step\n",
            "Epoch 2/50\n",
            "1563/1563 - 8s - loss: 1.8010 - accuracy: 0.3650 - 8s/epoch - 5ms/step\n",
            "Epoch 3/50\n",
            "1563/1563 - 6s - loss: 1.7243 - accuracy: 0.3925 - 6s/epoch - 4ms/step\n",
            "Epoch 4/50\n",
            "1563/1563 - 6s - loss: 1.6662 - accuracy: 0.4112 - 6s/epoch - 4ms/step\n",
            "Epoch 5/50\n",
            "1563/1563 - 6s - loss: 1.6173 - accuracy: 0.4288 - 6s/epoch - 4ms/step\n",
            "Epoch 6/50\n",
            "1563/1563 - 5s - loss: 1.5787 - accuracy: 0.4439 - 5s/epoch - 4ms/step\n",
            "Epoch 7/50\n",
            "1563/1563 - 6s - loss: 1.5417 - accuracy: 0.4541 - 6s/epoch - 4ms/step\n",
            "Epoch 8/50\n",
            "1563/1563 - 5s - loss: 1.5109 - accuracy: 0.4667 - 5s/epoch - 4ms/step\n",
            "Epoch 9/50\n",
            "1563/1563 - 6s - loss: 1.4828 - accuracy: 0.4765 - 6s/epoch - 4ms/step\n",
            "Epoch 10/50\n",
            "1563/1563 - 6s - loss: 1.4589 - accuracy: 0.4827 - 6s/epoch - 4ms/step\n",
            "Epoch 11/50\n",
            "1563/1563 - 6s - loss: 1.4355 - accuracy: 0.4932 - 6s/epoch - 4ms/step\n",
            "Epoch 12/50\n",
            "1563/1563 - 6s - loss: 1.4127 - accuracy: 0.5008 - 6s/epoch - 4ms/step\n",
            "Epoch 13/50\n",
            "1563/1563 - 5s - loss: 1.3954 - accuracy: 0.5084 - 5s/epoch - 3ms/step\n",
            "Epoch 14/50\n",
            "1563/1563 - 6s - loss: 1.3755 - accuracy: 0.5152 - 6s/epoch - 4ms/step\n",
            "Epoch 15/50\n",
            "1563/1563 - 6s - loss: 1.3554 - accuracy: 0.5227 - 6s/epoch - 4ms/step\n",
            "Epoch 16/50\n",
            "1563/1563 - 7s - loss: 1.3383 - accuracy: 0.5283 - 7s/epoch - 5ms/step\n",
            "Epoch 17/50\n",
            "1563/1563 - 6s - loss: 1.3206 - accuracy: 0.5340 - 6s/epoch - 4ms/step\n",
            "Epoch 18/50\n",
            "1563/1563 - 6s - loss: 1.3035 - accuracy: 0.5382 - 6s/epoch - 4ms/step\n",
            "Epoch 19/50\n",
            "1563/1563 - 5s - loss: 1.2889 - accuracy: 0.5455 - 5s/epoch - 3ms/step\n",
            "Epoch 20/50\n",
            "1563/1563 - 6s - loss: 1.2718 - accuracy: 0.5507 - 6s/epoch - 4ms/step\n",
            "Epoch 21/50\n",
            "1563/1563 - 6s - loss: 1.2553 - accuracy: 0.5569 - 6s/epoch - 4ms/step\n",
            "Epoch 22/50\n",
            "1563/1563 - 6s - loss: 1.2408 - accuracy: 0.5624 - 6s/epoch - 4ms/step\n",
            "Epoch 23/50\n",
            "1563/1563 - 6s - loss: 1.2278 - accuracy: 0.5668 - 6s/epoch - 4ms/step\n",
            "Epoch 24/50\n",
            "1563/1563 - 6s - loss: 1.2142 - accuracy: 0.5706 - 6s/epoch - 4ms/step\n",
            "Epoch 25/50\n",
            "1563/1563 - 6s - loss: 1.2000 - accuracy: 0.5798 - 6s/epoch - 4ms/step\n",
            "Epoch 26/50\n",
            "1563/1563 - 6s - loss: 1.1847 - accuracy: 0.5815 - 6s/epoch - 4ms/step\n",
            "Epoch 27/50\n",
            "1563/1563 - 6s - loss: 1.1710 - accuracy: 0.5859 - 6s/epoch - 4ms/step\n",
            "Epoch 28/50\n",
            "1563/1563 - 6s - loss: 1.1572 - accuracy: 0.5923 - 6s/epoch - 4ms/step\n",
            "Epoch 29/50\n",
            "1563/1563 - 6s - loss: 1.1451 - accuracy: 0.5960 - 6s/epoch - 4ms/step\n",
            "Epoch 30/50\n",
            "1563/1563 - 6s - loss: 1.1310 - accuracy: 0.6031 - 6s/epoch - 4ms/step\n",
            "Epoch 31/50\n",
            "1563/1563 - 6s - loss: 1.1150 - accuracy: 0.6059 - 6s/epoch - 4ms/step\n",
            "Epoch 32/50\n",
            "1563/1563 - 5s - loss: 1.1026 - accuracy: 0.6129 - 5s/epoch - 4ms/step\n",
            "Epoch 33/50\n",
            "1563/1563 - 6s - loss: 1.0903 - accuracy: 0.6147 - 6s/epoch - 4ms/step\n",
            "Epoch 34/50\n",
            "1563/1563 - 6s - loss: 1.0791 - accuracy: 0.6184 - 6s/epoch - 4ms/step\n",
            "Epoch 35/50\n",
            "1563/1563 - 6s - loss: 1.0634 - accuracy: 0.6247 - 6s/epoch - 4ms/step\n",
            "Epoch 36/50\n",
            "1563/1563 - 6s - loss: 1.0514 - accuracy: 0.6294 - 6s/epoch - 4ms/step\n",
            "Epoch 37/50\n",
            "1563/1563 - 6s - loss: 1.0373 - accuracy: 0.6367 - 6s/epoch - 4ms/step\n",
            "Epoch 38/50\n",
            "1563/1563 - 6s - loss: 1.0245 - accuracy: 0.6418 - 6s/epoch - 4ms/step\n",
            "Epoch 39/50\n",
            "1563/1563 - 6s - loss: 1.0118 - accuracy: 0.6422 - 6s/epoch - 4ms/step\n",
            "Epoch 40/50\n",
            "1563/1563 - 6s - loss: 1.0029 - accuracy: 0.6471 - 6s/epoch - 4ms/step\n",
            "Epoch 41/50\n",
            "1563/1563 - 6s - loss: 0.9861 - accuracy: 0.6541 - 6s/epoch - 4ms/step\n",
            "Epoch 42/50\n",
            "1563/1563 - 5s - loss: 0.9745 - accuracy: 0.6586 - 5s/epoch - 3ms/step\n",
            "Epoch 43/50\n",
            "1563/1563 - 6s - loss: 0.9656 - accuracy: 0.6604 - 6s/epoch - 4ms/step\n",
            "Epoch 44/50\n",
            "1563/1563 - 6s - loss: 0.9486 - accuracy: 0.6672 - 6s/epoch - 4ms/step\n",
            "Epoch 45/50\n",
            "1563/1563 - 6s - loss: 0.9349 - accuracy: 0.6700 - 6s/epoch - 4ms/step\n",
            "Epoch 46/50\n",
            "1563/1563 - 6s - loss: 0.9221 - accuracy: 0.6776 - 6s/epoch - 4ms/step\n",
            "Epoch 47/50\n",
            "1563/1563 - 5s - loss: 0.9087 - accuracy: 0.6830 - 5s/epoch - 3ms/step\n",
            "Epoch 48/50\n",
            "1563/1563 - 6s - loss: 0.8969 - accuracy: 0.6875 - 6s/epoch - 4ms/step\n",
            "Epoch 49/50\n",
            "1563/1563 - 5s - loss: 0.8812 - accuracy: 0.6915 - 5s/epoch - 4ms/step\n",
            "Epoch 50/50\n",
            "1563/1563 - 6s - loss: 0.8740 - accuracy: 0.6931 - 6s/epoch - 4ms/step\n"
          ]
        }
      ]
    },
    {
      "cell_type": "code",
      "source": [
        "fig, ax = plt.subplots(2,1)\n",
        "ax[0].plot(history.history['loss'], color='b', label=\"Training Loss\")\n",
        "legend = ax[0].legend(loc='best', shadow=True)\n",
        "\n",
        "ax[1].plot(history.history['accuracy'], color='b', label=\"Training Accuracy\")\n",
        "legend = ax[1].legend(loc='best', shadow=True)"
      ],
      "metadata": {
        "colab": {
          "base_uri": "https://localhost:8080/",
          "height": 267
        },
        "id": "3t0ISFXh8XY2",
        "outputId": "7ea99f93-6d2b-4e6e-866c-d967a0f8bb5f"
      },
      "execution_count": 11,
      "outputs": [
        {
          "output_type": "display_data",
          "data": {
            "text/plain": [
              "<Figure size 432x288 with 2 Axes>"
            ],
            "image/png": "[encoded data removed]"
          },
          "metadata": {
            "needs_background": "light"
          }
        }
      ]
    },
    {
      "cell_type": "code",
      "source": [
        "score = model.evaluate(x_test_scaled, y_test_encoded, verbose = 2)\n",
        "print('Test loss:', score[0]) \n",
        "print('Test accuracy:', score[1])"
      ],
      "metadata": {
        "colab": {
          "base_uri": "https://localhost:8080/"
        },
        "id": "PIgfCHdUquAI",
        "outputId": "07b907b8-c63e-4505-8029-ad08650dd633"
      },
      "execution_count": 12,
      "outputs": [
        {
          "output_type": "stream",
          "name": "stdout",
          "text": [
            "313/313 - 1s - loss: 1.3449 - accuracy: 0.5476 - 1s/epoch - 4ms/step\n",
            "Test loss: 1.3449351787567139\n",
            "Test accuracy: 0.5475999712944031\n"
          ]
        }
      ]
    },
    {
      "cell_type": "markdown",
      "source": [
        "We see that the test accuracy is actually only around 55%. Making predictions with the test set would give us a \"chance\" prediction. \n",
        "\n",
        "Thus, this gives us an insight that no matter how high the training accuracy is, the test accuracy could still be a chance prediction. it also provides an insight that there may be \"meaningful differences\" between the data that the model trained on and the model is being tested with.\n",
        "\n",
        "This further expands to show that when training a neural network, there are various knobs and dials that we can use to fine-tune the network."
      ],
      "metadata": {
        "id": "l67kwwQc2PiN"
      }
    }
  ]
}